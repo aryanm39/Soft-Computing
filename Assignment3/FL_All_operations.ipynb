{
  "nbformat": 4,
  "nbformat_minor": 0,
  "metadata": {
    "colab": {
      "provenance": []
    },
    "kernelspec": {
      "name": "python3",
      "display_name": "Python 3"
    },
    "language_info": {
      "name": "python"
    }
  },
  "cells": [
    {
      "cell_type": "code",
      "source": [
        "# Example to Demonstrate the\n",
        "# Union of Two Fuzzy Sets\n",
        "A = dict()\n",
        "B = dict()\n",
        "Y = dict()\n",
        "\n",
        "A = {\"a\": 0.2, \"b\": 0.3, \"c\": 0.6, \"d\": 0.6}\n",
        "B = {\"a\": 0.9, \"b\": 0.9, \"c\": 0.4, \"d\": 0.5}\n",
        "\n",
        "print('The First Fuzzy Set is :', A)\n",
        "print('The Second Fuzzy Set is :', B)\n",
        "\n",
        "\n",
        "for A_key, B_key in zip(A, B):\n",
        "\tA_value = A[A_key]\n",
        "\tB_value = B[B_key]\n",
        "\n",
        "\tif A_value > B_value:\n",
        "\t\tY[A_key] = A_value\n",
        "\telse:\n",
        "\t\tY[B_key] = B_value\n",
        "\n",
        "print('Fuzzy Set Union is :', Y)\n"
      ],
      "metadata": {
        "colab": {
          "base_uri": "https://localhost:8080/"
        },
        "id": "VPyDZuMWvJT9",
        "outputId": "a83df33d-86f5-4c29-d569-c361b6b33a57"
      },
      "execution_count": null,
      "outputs": [
        {
          "output_type": "stream",
          "name": "stdout",
          "text": [
            "The First Fuzzy Set is : {'a': 0.2, 'b': 0.3, 'c': 0.6, 'd': 0.6}\n",
            "The Second Fuzzy Set is : {'a': 0.9, 'b': 0.9, 'c': 0.4, 'd': 0.5}\n",
            "Fuzzy Set Union is : {'a': 0.9, 'b': 0.9, 'c': 0.6, 'd': 0.6}\n"
          ]
        }
      ]
    },
    {
      "cell_type": "code",
      "source": [
        "#Intersection\n",
        "for A_key, B_key in zip(A, B):\n",
        "    A_value = A[A_key]\n",
        "    B_value = B[B_key]\n",
        "\n",
        "    if A_value < B_value:\n",
        "        Y[A_key] = A_value\n",
        "    else:\n",
        "        Y[B_key] = B_value\n",
        "print('Fuzzy Set Intersection is :', Y)"
      ],
      "metadata": {
        "colab": {
          "base_uri": "https://localhost:8080/"
        },
        "id": "oqygkyGBvQ9T",
        "outputId": "2ac22b79-2e25-4d24-8d71-126134bc3493"
      },
      "execution_count": null,
      "outputs": [
        {
          "output_type": "stream",
          "name": "stdout",
          "text": [
            "Fuzzy Set Intersection is : {'a': 0.2, 'b': 0.3, 'c': 0.4, 'd': 0.5}\n"
          ]
        }
      ]
    },
    {
      "cell_type": "code",
      "source": [
        "#Complement\n",
        "for A_key in A:\n",
        "   Y[A_key]= 1-A[A_key]\n",
        "\n",
        "print('Fuzzy Set Complement is :', Y)"
      ],
      "metadata": {
        "colab": {
          "base_uri": "https://localhost:8080/"
        },
        "id": "Hgl4kqmxvVP8",
        "outputId": "ec7df372-f009-4015-9e40-198c792358c8"
      },
      "execution_count": null,
      "outputs": [
        {
          "output_type": "stream",
          "name": "stdout",
          "text": [
            "Fuzzy Set Complement is : {'a': 0.8, 'b': 0.7, 'c': 0.4, 'd': 0.4}\n"
          ]
        }
      ]
    },
    {
      "cell_type": "code",
      "source": [
        "# Difference\n",
        "for A_key, B_key in zip(A, B):\n",
        "    A_value = A[A_key]\n",
        "    B_value = B[B_key]\n",
        "    B_value = 1 - B_value\n",
        "\n",
        "    if A_value < B_value:\n",
        "        Y[A_key] = A_value\n",
        "    else:\n",
        "        Y[B_key] = B_value\n",
        "\n",
        "print('Fuzzy Set Difference is :', Y)"
      ],
      "metadata": {
        "colab": {
          "base_uri": "https://localhost:8080/"
        },
        "id": "pHwr43Uuvjnw",
        "outputId": "78eb814c-0cb8-4a87-ca5a-948e34a69431"
      },
      "execution_count": null,
      "outputs": [
        {
          "output_type": "stream",
          "name": "stdout",
          "text": [
            "Fuzzy Set Difference is : {'a': 0.09999999999999998, 'b': 0.09999999999999998, 'c': 0.6, 'd': 0.5}\n"
          ]
        }
      ]
    },
    {
      "cell_type": "code",
      "source": [
        "# Cartesian product\n",
        "def findCart(arr1, arr2, n, n1):\n",
        "  for i in range(0, n):\n",
        "    for j in range(0, n1):\n",
        "      print(\"{\", arr1[i], \", \", arr2[j], \"}, \", sep=\"\", end=\"\")\n",
        "    print(end='\\n')\n",
        "\n",
        "# Driver code\n",
        "arr1 = [1, 2, 3]  # first set\n",
        "arr2 = [4, 5, 6]  # second set\n",
        "\n",
        "n1 = len(arr1)  # sizeof(arr1[0])\n",
        "n2 = len(arr2)  # sizeof(arr2[0]);\n",
        "\n",
        "findCart(arr1, arr2, n1, n2)"
      ],
      "metadata": {
        "colab": {
          "base_uri": "https://localhost:8080/"
        },
        "id": "tpaceMtgwD9X",
        "outputId": "93248447-5f29-4210-c80b-36694ee29940"
      },
      "execution_count": null,
      "outputs": [
        {
          "output_type": "stream",
          "name": "stdout",
          "text": [
            "{1, 4}, {1, 5}, {1, 6}, \n",
            "{2, 4}, {2, 5}, {2, 6}, \n",
            "{3, 4}, {3, 5}, {3, 6}, \n"
          ]
        }
      ]
    },
    {
      "cell_type": "code",
      "source": [
        "# Triangular membership function\n",
        "import matplotlib.pyplot as plt\n",
        "import numpy as np\n",
        "from scipy.stats import norm\n",
        "import math\n",
        "import random\n",
        "import pandas as pd\n",
        "import warnings\n",
        "warnings.filterwarnings('ignore')\n",
        "a=float(input(\"Enter a: \"))\n",
        "b=float(input(\"Enter b: \"))\n",
        "m=(a+b)/2\n",
        "X=(a,m,b)\n",
        "Y=(0,1,0)\n",
        "plt.plot(X,Y)\n",
        "plt.show()"
      ],
      "metadata": {
        "colab": {
          "base_uri": "https://localhost:8080/",
          "height": 465
        },
        "id": "sYqFA1noxHnd",
        "outputId": "320fa0d4-9a62-4b18-98f4-793f067522dc"
      },
      "execution_count": null,
      "outputs": [
        {
          "name": "stdout",
          "output_type": "stream",
          "text": [
            "Enter a: 2\n",
            "Enter b: 8\n"
          ]
        },
        {
          "output_type": "display_data",
          "data": {
            "text/plain": [
              "<Figure size 640x480 with 1 Axes>"
            ],
            "image/png": "[encoded data removed]"
          },
          "metadata": {}
        }
      ]
    },
    {
      "cell_type": "code",
      "source": [
        "# Finding membership value of an element  x in the above FS\n",
        "x=float(input(\"Enter the element: \"))\n",
        "if x<=a:\n",
        "    mem = 0\n",
        "elif x>a and x<=m:\n",
        "    mem = (x-a)/(m-a)\n",
        "elif x>m and x<b:\n",
        "    mem = (b-x)/(b-m)\n",
        "else:\n",
        "    mem=0\n",
        "\n",
        "print(\"Membership : \",mem)"
      ],
      "metadata": {
        "colab": {
          "base_uri": "https://localhost:8080/"
        },
        "id": "q3eX5rt9xxk8",
        "outputId": "bae320a7-9816-4ae1-8ac3-5b24737bb61e"
      },
      "execution_count": null,
      "outputs": [
        {
          "output_type": "stream",
          "name": "stdout",
          "text": [
            "Enter the element: 4\n",
            "Membership :  0.6666666666666666\n"
          ]
        }
      ]
    },
    {
      "cell_type": "code",
      "source": [
        "# Cartesian Product\n",
        " n = int(input(\"\\nEnter number of elements in first set (A): \"))\n",
        " A = []\n",
        " B = []\n",
        " print(\"Enter elements for A:\")\n",
        " for i in range(0, n):\n",
        "  ele = float(input())\n",
        "  A.append(ele)\n",
        "m = int(input(\"\\nEnter number of elements in second set (B): \"))\n",
        "print(\"Enter elements for B:\")\n",
        "for i in range(0, m):\n",
        "  ele = float(input())\n",
        "  B.append(ele)\n",
        "print(\"A = {\"+str(A)[1:-1]+\"}\")\n",
        "print(\"B = {\"+str(B)[1:-1]+\"}\")\n",
        "cart_prod = []\n",
        "cart_prod = [[0 for j in range(m)]for i in range(n)]\n",
        "for i in range(n):\n",
        "  for j in range(m):\n",
        "    cart_prod[i][j] = min(A[i],B[j])\n",
        "print(\"A x B = \")\n",
        "for i in range(n):\n",
        "  for j in range(m):\n",
        "    print(cart_prod[i][j],end=\"  \")\n",
        "  print(\"\\n\")"
      ],
      "metadata": {
        "colab": {
          "base_uri": "https://localhost:8080/"
        },
        "id": "MvR4tTOHzk38",
        "outputId": "6a48f0ce-9aa9-4a0c-bb24-c59a3b958616"
      },
      "execution_count": null,
      "outputs": [
        {
          "output_type": "stream",
          "name": "stdout",
          "text": [
            "\n",
            "Enter number of elements in first set (A): 3\n",
            "Enter elements for A:\n",
            ".2\n",
            ".3\n",
            ".9\n",
            "\n",
            "Enter number of elements in second set (B): 3\n",
            "Enter elements for B:\n",
            "1\n",
            ".5\n",
            ".7\n",
            "A = {0.2, 0.3, 0.9}\n",
            "B = {1.0, 0.5, 0.7}\n",
            "A x B = \n",
            "0.2  0.2  0.2  \n",
            "\n",
            "0.3  0.3  0.3  \n",
            "\n",
            "0.9  0.5  0.7  \n",
            "\n"
          ]
        }
      ]
    }
  ]
}