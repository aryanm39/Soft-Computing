{
  "nbformat": 4,
  "nbformat_minor": 0,
  "metadata": {
    "colab": {
      "provenance": []
    },
    "kernelspec": {
      "name": "python3",
      "display_name": "Python 3"
    },
    "language_info": {
      "name": "python"
    }
  },
  "cells": [
    {
      "cell_type": "code",
      "execution_count": null,
      "metadata": {
        "id": "IScNdZqNN0Sb"
      },
      "outputs": [],
      "source": [
        "#Import required libraries\n",
        "import keras #library for neural network\n",
        "#import pandas as pd #loading data in table form\n",
        "import seaborn as sns #visualisation\n",
        "import matplotlib.pyplot as plt #visualisation\n",
        "import numpy as np # linear algebra\n",
        "import pandas as pd # data processing, CSV file I/O (e.g. pd.read_csv)\n",
        "from sklearn.preprocessing import normalize #machine learning algorithm library"
      ]
    },
    {
      "cell_type": "code",
      "source": [
        "from sklearn.datasets import load_iris\n",
        "from sklearn.model_selection import train_test_split\n",
        "from sklearn.preprocessing import OneHotEncoder\n",
        "\n",
        "from keras.models import Sequential\n",
        "from keras.layers import Dense\n",
        "from keras.optimizers import Adam\n",
        "\n",
        "iris_data = load_iris() # load the iris dataset\n",
        "\n",
        "# displays first 4 values for the top 5 records of the dataset\n",
        "#print('Example data: ')\n",
        "#print(iris_data.data[:5])\n",
        "# displaying the class labels of the first 5 rows of the dataset\n",
        "#print('Example lab#els: ')\n",
        "#print(iris_data.target[:5])\n",
        "\n",
        "# input and class labels as x matrix of 150 X 4 and y is a matrix of 150 X 1 resp.\n",
        "x = iris_data.data\n",
        "#y_ = iris_data.target.reshape(-1, 1) # Convert data to a single column\n",
        "y_ = iris_data.target\n",
        "print(y_)\n",
        "\n",
        "\n"
      ],
      "metadata": {
        "colab": {
          "base_uri": "https://localhost:8080/"
        },
        "id": "86twvk8KPpwC",
        "outputId": "fefb2aa1-79b0-414c-f8c6-4bfffcb32903"
      },
      "execution_count": null,
      "outputs": [
        {
          "output_type": "stream",
          "name": "stdout",
          "text": [
            "[0 0 0 0 0 0 0 0 0 0 0 0 0 0 0 0 0 0 0 0 0 0 0 0 0 0 0 0 0 0 0 0 0 0 0 0 0\n",
            " 0 0 0 0 0 0 0 0 0 0 0 0 0 1 1 1 1 1 1 1 1 1 1 1 1 1 1 1 1 1 1 1 1 1 1 1 1\n",
            " 1 1 1 1 1 1 1 1 1 1 1 1 1 1 1 1 1 1 1 1 1 1 1 1 1 1 2 2 2 2 2 2 2 2 2 2 2\n",
            " 2 2 2 2 2 2 2 2 2 2 2 2 2 2 2 2 2 2 2 2 2 2 2 2 2 2 2 2 2 2 2 2 2 2 2 2 2\n",
            " 2 2]\n"
          ]
        }
      ]
    }
  ]
}